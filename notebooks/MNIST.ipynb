{
 "cells": [
  {
   "cell_type": "code",
   "execution_count": 1,
   "metadata": {
    "collapsed": true
   },
   "outputs": [],
   "source": [
    "from __future__ import division\n",
    "import numpy as np\n",
    "import scipy as sp\n",
    "import pandas as pd\n",
    "import csv\n",
    "import random as rn\n",
    "\n",
    "import matplotlib.pyplot as plt\n",
    "%matplotlib inline\n",
    "%config InlineBackend.figure_format = 'retina'"
   ]
  },
  {
   "cell_type": "code",
   "execution_count": 2,
   "metadata": {
    "collapsed": true
   },
   "outputs": [],
   "source": [
    "from sklearn.ensemble import GradientBoostingClassifier, RandomForestClassifier\n",
    "from sklearn.neighbors import KNeighborsClassifier\n",
    "from sklearn.decomposition import KernelPCA, PCA\n",
    "from sklearn.linear_model import LogisticRegressionCV\n",
    "from sklearn import svm, cross_validation, grid_search\n",
    "from sklearn.metrics import accuracy_score\n",
    "from sklearn.feature_selection import f_classif, RFECV, SelectKBest"
   ]
  },
  {
   "cell_type": "code",
   "execution_count": 3,
   "metadata": {
    "collapsed": false
   },
   "outputs": [],
   "source": [
    "# Train IO\n",
    "train_digits = pd.read_csv(\"../datasets/mnist/traindigits\", sep='   ', header=None, engine='python')\n",
    "train_labels = pd.read_csv(\"../datasets/mnist/trainlabels\", sep='   ', header=None, engine='python')\n",
    "test_digits = pd.read_csv(\"../datasets/mnist/testdigits\", sep='   ', header=None, engine='python')\n",
    "test_labels = pd.read_csv(\"../datasets/mnist/testlabels\", sep='   ', header=None, engine='python')"
   ]
  },
  {
   "cell_type": "code",
   "execution_count": 4,
   "metadata": {
    "collapsed": false
   },
   "outputs": [],
   "source": [
    "digits = train_digits.append(test_digits)\n",
    "labels = train_labels.append(test_labels)"
   ]
  },
  {
   "cell_type": "code",
   "execution_count": 5,
   "metadata": {
    "collapsed": true
   },
   "outputs": [],
   "source": [
    "X = digits.as_matrix()\n",
    "y = labels.as_matrix()\n",
    "y = np.array([np.argmax(pattern) for pattern in y])"
   ]
  },
  {
   "cell_type": "code",
   "execution_count": 13,
   "metadata": {
    "collapsed": false
   },
   "outputs": [],
   "source": [
    "X_train, X_test, y_train, y_test = cross_validation.train_test_split(\n",
    " X,y, train_size=.7, random_state=20)"
   ]
  },
  {
   "cell_type": "code",
   "execution_count": 14,
   "metadata": {
    "collapsed": false
   },
   "outputs": [
    {
     "data": {
      "text/plain": [
       "(70000, 784)"
      ]
     },
     "execution_count": 14,
     "metadata": {},
     "output_type": "execute_result"
    }
   ],
   "source": [
    "X.shape"
   ]
  },
  {
   "cell_type": "markdown",
   "metadata": {},
   "source": [
    "# MNIST Classifers"
   ]
  },
  {
   "cell_type": "code",
   "execution_count": 8,
   "metadata": {
    "collapsed": false
   },
   "outputs": [
    {
     "data": {
      "text/plain": [
       "0.91086666666666671"
      ]
     },
     "execution_count": 8,
     "metadata": {},
     "output_type": "execute_result"
    }
   ],
   "source": [
    "# Logit\n",
    "logit_clf = LogisticRegressionCV(solver='newton-cg', Cs=[.001,.01,.1,1,10,100], \n",
    "                                 multi_class='multinomial', penalty='l2')\n",
    "logit_clf.fit(X_train, y_train)\n",
    "logit_clf.score(X_test, y_test)"
   ]
  },
  {
   "cell_type": "code",
   "execution_count": 9,
   "metadata": {
    "collapsed": false
   },
   "outputs": [
    {
     "name": "stdout",
     "output_type": "stream",
     "text": [
      "0.9545\n"
     ]
    },
    {
     "data": {
      "text/plain": [
       "{'C': 500, 'degree': 2}"
      ]
     },
     "execution_count": 9,
     "metadata": {},
     "output_type": "execute_result"
    }
   ],
   "source": [
    "# SVM \n",
    "svm_params = {'C':[.01,1,10,100,500], 'degree':[1,2,3]}\n",
    "clf = svm.SVC(kernel='poly')\n",
    "svm_clf = grid_search.GridSearchCV(clf, svm_params, cv=3, n_jobs=4)\n",
    "svm_clf.fit(X_train,y_train)\n",
    "print svm_clf.best_score_\n",
    "svm_clf.best_params_"
   ]
  },
  {
   "cell_type": "code",
   "execution_count": 15,
   "metadata": {
    "collapsed": false
   },
   "outputs": [
    {
     "data": {
      "text/plain": [
       "0.98061904761904761"
      ]
     },
     "execution_count": 15,
     "metadata": {},
     "output_type": "execute_result"
    }
   ],
   "source": [
    "clf = svm.SVC(kernel='poly',C=1000, degree=2)\n",
    "clf.fit(X_train,y_train)\n",
    "clf.score(X_test, y_test)"
   ]
  },
  {
   "cell_type": "code",
   "execution_count": 10,
   "metadata": {
    "collapsed": false
   },
   "outputs": [
    {
     "name": "stdout",
     "output_type": "stream",
     "text": [
      "0.9439\n"
     ]
    },
    {
     "data": {
      "text/plain": [
       "{'max_features': 8, 'n_estimators': 1024}"
      ]
     },
     "execution_count": 10,
     "metadata": {},
     "output_type": "execute_result"
    }
   ],
   "source": [
    "# Random Forests\n",
    "rf_params = {\"max_features\":[1,2,4,6,8,12,16,20], \n",
    "             \"n_estimators\":[1024]}\n",
    "clf = RandomForestClassifier()\n",
    "rf_clf = grid_search.GridSearchCV(clf, rf_params, cv=3, n_jobs=4)\n",
    "rf_clf.fit(X_train,y_train)\n",
    "print rf_clf.best_score_\n",
    "rf_clf.best_params_"
   ]
  },
  {
   "cell_type": "code",
   "execution_count": 11,
   "metadata": {
    "collapsed": false
   },
   "outputs": [
    {
     "name": "stdout",
     "output_type": "stream",
     "text": [
      "0.9403\n"
     ]
    },
    {
     "data": {
      "text/plain": [
       "{'n_neighbors': 1}"
      ]
     },
     "execution_count": 11,
     "metadata": {},
     "output_type": "execute_result"
    }
   ],
   "source": [
    "# KNN\n",
    "knn_params = {\"n_neighbors\":[1,2,3,5,7,10,15,25,50,100,500]}\n",
    "clf = KNeighborsClassifier()\n",
    "knn_clf = grid_search.GridSearchCV(clf, knn_params, cv=3, n_jobs=4)\n",
    "knn_clf.fit(X_train,y_train);\n",
    "print knn_clf.best_score_\n",
    "knn_clf.best_params_"
   ]
  },
  {
   "cell_type": "code",
   "execution_count": null,
   "metadata": {
    "collapsed": false
   },
   "outputs": [],
   "source": [
    "# Gradient Boosting\n",
    "gb_params = {\"n_estimators\":[512,1024],\n",
    "            \"learning_rate\":[.01,.1]}\n",
    "clf = GradientBoostingClassifier()\n",
    "gb_clf = grid_search.GridSearchCV(clf, gb_params, cv=3, n_jobs=4)\n",
    "gb_clf.fit(X_train,y_train);\n",
    "print gb_clf.best_score_\n",
    "gb_clf.best_params_"
   ]
  },
  {
   "cell_type": "code",
   "execution_count": 12,
   "metadata": {
    "collapsed": false
   },
   "outputs": [
    {
     "name": "stdout",
     "output_type": "stream",
     "text": [
      "0.910866666667\n",
      "0.962016666667\n",
      "0.950283333333\n",
      "0.948733333333\n"
     ]
    }
   ],
   "source": [
    "for classifer in [logit_clf, svm_clf, rf_clf, knn_clf]:\n",
    "    print classifer.score(X_test, y_test)"
   ]
  },
  {
   "cell_type": "code",
   "execution_count": null,
   "metadata": {
    "collapsed": true
   },
   "outputs": [],
   "source": []
  },
  {
   "cell_type": "code",
   "execution_count": null,
   "metadata": {
    "collapsed": true
   },
   "outputs": [],
   "source": []
  }
 ],
 "metadata": {
  "kernelspec": {
   "display_name": "Python 2",
   "language": "python",
   "name": "python2"
  },
  "language_info": {
   "codemirror_mode": {
    "name": "ipython",
    "version": 2
   },
   "file_extension": ".py",
   "mimetype": "text/x-python",
   "name": "python",
   "nbconvert_exporter": "python",
   "pygments_lexer": "ipython2",
   "version": "2.7.11"
  }
 },
 "nbformat": 4,
 "nbformat_minor": 0
}
